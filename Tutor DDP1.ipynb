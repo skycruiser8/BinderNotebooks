{
 "cells": [
  {
   "cell_type": "markdown",
   "metadata": {},
   "source": [
    "# Programming Foundations 1 Tutoring Session - I\n",
    "\n",
    "**Author**: Rafi Muhammad Daffa | **Date**: December 4th 2019 | **Session ID**: PF1-0A9281\n",
    "\n",
    "## Lisensi\n",
    "\n",
    "Sebagaimana telah tertera pada repositori GitHub proyek ini, proyek ini dilindungi lisensi Creative Commons-Attributions 4.0. Penggunaan dan/atau modifikasi dari proyek ini dipersilakan selama tetap mencantumkan nama penulis asli dari proyek ini.\n",
    "\n",
    "## Daftar Isi\n",
    "\n",
    "1. Review Materi Dasar\n",
    "\n",
    "## 1. Review Materi Dasar\n",
    "\n",
    "### A. Pemrograman Elementer\n",
    "\n",
    "**Soal 1. Tipe Data**\n",
    "\n",
    "Pada kode di bawah telah tersedia beberapa variabel yang menyimpan data-data. Prediksilah tipe dari masing-masing data dengan mengisi kolom komentar yang tersedia dan gunakan fungsi bawaan Python yang dapat mencetak tipe dari sebuah data!"
   ]
  },
  {
   "cell_type": "code",
   "execution_count": null,
   "metadata": {},
   "outputs": [],
   "source": [
    "data1 = 4.                             # Tipe Data: ....\n",
    "data2 = \"Foundations of Programming\"   # Tipe Data: ....\n",
    "data3 = True                           # Tipe Data: ....\n",
    "data4 = {\"SBI\", \"SGU\", \"BD\", \"GMR\"}    # Tipe Data: ....\n",
    "data5 = {\"KA 1\": \"Argo Wilis\"}         # Tipe Data: ....\n",
    "\n",
    "# Masukkan fungsi untuk mencetak tipe data masing-masing di sini\n"
   ]
  },
  {
   "cell_type": "markdown",
   "metadata": {},
   "source": [
    "<details>\n",
    "    <summary>Kunci Jawaban Soal 1</summary>\n",
    "    \n",
    "    Tipe data1: Floating Point (float)\n",
    "    Tipe data2: String (str)\n",
    "    Tipe data3: Boolean (bool)\n",
    "    Tipe data4: Set (set) of String (str)\n",
    "    Tipe data5 = Dictionary (dict) with String (str) key and String (str) value\n",
    "    \n",
    "    Kode pencetak tipe data:\n",
    "    type(dataX)\n",
    "    \n",
    "</details>"
   ]
  },
  {
   "cell_type": "markdown",
   "metadata": {},
   "source": [
    "**Soal 2. Tipe Data**\n",
    "\n",
    "Perbaiki program di bawah ini sehingga dapat membangun String <code>\"L1+L2 = ['Argo Muria','Argo Sindoro'] (2 elemen)\"</code>!"
   ]
  },
  {
   "cell_type": "code",
   "execution_count": null,
   "metadata": {},
   "outputs": [],
   "source": [
    "L1 = [\"Argo Muria\"]\n",
    "L2 = [\"Argo Sindoro\"]\n",
    "\n",
    "# Perbaiki variabel hasil sehingga dapat membangun String yang benar\n",
    "hasil = \"L1+L2 = \"+L1+L2+\" (\"+len(L1)+len(L2)+\" elemen)\""
   ]
  },
  {
   "cell_type": "markdown",
   "metadata": {},
   "source": [
    "<details>\n",
    "    <summary>Kunci Jawaban Soal 2</summary>\n",
    "    \n",
    "    Perhatikan bahwa perlakuan operasi penambahan untuk setiap tipe data itu berbeda, sehingga kamu perlu menyamakan seluruh tipe data untuk mencapai hasil yang diinginkan. Hal ini berlaku di Python, namun bisa jadi tidak berlaku di bahasa pemrograman lain, contohnya adalah Java.\n",
    "    \n",
    "    hasil = \"L1+L2 = \"+str(L1+L2)+\" (\"+str(len(L1)+len(L2))+\" elemen)\"\n",
    "    \n",
    "</details>"
   ]
  },
  {
   "cell_type": "markdown",
   "metadata": {},
   "source": [
    "**Soal 3. Struktur Percabangan**\n",
    "\n",
    "Diberikan sebuah program yang dapat mengecek pasangan kode dan nama stasiun di bawah ini. Program ini diharapkan dapat mengembalikan hasil True jika termasuk salah satu dari stasiun berikut ini:\n",
    "\n",
    "1. CN - Cirebon Kejaksan\n",
    "2. BD - Bandung Hall\n",
    "3. GMR - Jakarta Gambir\n",
    "4. SBI - Surabaya Pasar Turi\n",
    "5. YK - Yogyakarta Tugu\n",
    "6. SMT - Semarang Tawang\n",
    "\n",
    "Periksa apakah program berikut ini dapat mengeluarkan hasil yang diharapkan (True apabila pasangan kode dan nama stasiunnya ada di daftar tadi) dan perbaiki programnya apabila terdapat kesalahan. Coba revisi program ini sehingga hanya perlu menggunakan satu blok if dan else."
   ]
  },
  {
   "cell_type": "code",
   "execution_count": 15,
   "metadata": {},
   "outputs": [],
   "source": [
    "kode = \"CN\"\n",
    "nama = \"Cirebon Kejaksan\"\n",
    "\n",
    "hasil = False\n",
    "\n",
    "if kode == \"CN\" and nama == \"Cirebon Kejaksan\":\n",
    "    hasil = True\n",
    "elif kode == \"BD\" and nama != \"Bandung Hall\":\n",
    "    hasil = True\n",
    "elif kode != \"GMR\" and nama == \"Jakarta Gambir\":\n",
    "    hasil = True\n",
    "elif kode == \"SBI\" and nama == \"Surabaya Pasar Turi\":\n",
    "    hasil = True\n",
    "elif kode == \"YK\" and nama != \"Yogyakarta Tugu\":\n",
    "    hasil = True\n",
    "else kode == \"SMT\" and nama == \"Semarang Tawang\":\n",
    "    hasil = True\n",
    "\n"
   ]
  },
  {
   "cell_type": "markdown",
   "metadata": {},
   "source": [
    "<details>\n",
    "    <summary>Kunci Jawaban Soal 3</summary>\n",
    "    \n",
    "    if kode == \"CN\" and nama == \"Cirebon Kejaksan\":\n",
    "        hasil = True\n",
    "    elif kode == \"BD\" and nama == \"Bandung Hall\":\n",
    "        hasil = True\n",
    "    elif kode == \"GMR\" and nama == \"Jakarta Gambir\":\n",
    "        hasil = True\n",
    "    elif kode == \"SBI\" and nama == \"Surabaya Pasar Turi\":\n",
    "        hasil = True\n",
    "    elif kode == \"YK\" and nama == \"Yogyakarta Tugu\":\n",
    "        hasil = True\n",
    "    elif kode == \"SMT\" and nama == \"Semarang Tawang\":\n",
    "        hasil = True\n",
    "    \n",
    "    Gunakan dictionary untuk mempersingkat struktur percabangan\n",
    "    \n",
    "    stasiun = {\"CN\": \"Cirebon Kejaksan\", \"BD\": \"Bandung Hall\", \"GMR\": \"Jakarta Gambir\", \"SBI\": \"Surabaya Pasar Turi\", \"YK\": \"Yogyakarta Tugu\", \"SMT\": \"Semarang Tawang\"}\n",
    "    if kode in stasiun.keys() and stasiun[kode] == nama:\n",
    "        hasil = True\n",
    "    \n",
    "</details>"
   ]
  },
  {
   "cell_type": "markdown",
   "metadata": {},
   "source": [
    "**Soal 4. Struktur Iterasi <code>for</code>**\n",
    "\n",
    "Nomor Pokok Mahasiswa (NPM) Universitas Indonesia didesain untuk dapat melakukan pengecekan kesalahan sederhana. Sistem ini merupakan variasi dari *Luhn Check* dengan aturan sebagai berikut:\n",
    "\n",
    "1. Jumlahkan angka-angka pada indeks genap (0,2,4,6,8) kemudian kalikan hasilnya dengan 3\n",
    "2. Jumlahkan angka-angka pada indeks ganjil kecuali angka terakhir (1,3,5,7)\n",
    "3. Jumlahkan kedua hasil dan cari sisa baginya ketika dibagi dengan 7.\n",
    "4. Jika sisa baginya sama dengan angka terakhir, maka NPM tersebut benar.\n",
    "\n",
    "Buatlah sebuah program yang dapat mengecek kebenaran suatu NPM* di mana jika NPM tersebut benar, maka simpan nilai True. Sebaliknya, jika NPM tersebut salah, maka simpan nilai False.\n",
    "\n",
    "\\*) Asumsikan NPM yang menjadi masukan pasti merupakan sebuah String dan pasti 10 karakter"
   ]
  },
  {
   "cell_type": "code",
   "execution_count": null,
   "metadata": {},
   "outputs": [],
   "source": [
    "# Test Cases\n",
    "npmbenar = \"1806141422\"\n",
    "npmsalah = \"1806141427\"\n",
    "\n",
    "# Simpan hasil pengecekan di variabel ini nanti\n",
    "hasil = False\n",
    "\n",
    "# Buat programmu di sini\n"
   ]
  },
  {
   "cell_type": "markdown",
   "metadata": {},
   "source": [
    "<details>\n",
    "    <summary>Kunci Jawaban Soal 4</summary>\n",
    "    \n",
    "    npmbenar = \"1806141422\"\n",
    "    hitung = 0\n",
    "    hasil = False\n",
    "    \n",
    "    for idx in range(0, 9):\n",
    "        if idx%2==0:\n",
    "            hitung += int(npmbenar[idx])*3\n",
    "        else:\n",
    "            hitung += int(npmbenar[idx])\n",
    "    hitung = hitung%7\n",
    "    if hitung==int(npmbenar[-1]):\n",
    "        hasil = True\n",
    "    \n",
    "</details>"
   ]
  },
  {
   "cell_type": "code",
   "execution_count": null,
   "metadata": {},
   "outputs": [],
   "source": []
  },
  {
   "cell_type": "code",
   "execution_count": null,
   "metadata": {},
   "outputs": [],
   "source": []
  }
 ],
 "metadata": {
  "kernelspec": {
   "display_name": "Python 3",
   "language": "python",
   "name": "python3"
  },
  "language_info": {
   "codemirror_mode": {
    "name": "ipython",
    "version": 3
   },
   "file_extension": ".py",
   "mimetype": "text/x-python",
   "name": "python",
   "nbconvert_exporter": "python",
   "pygments_lexer": "ipython3",
   "version": "3.7.5"
  }
 },
 "nbformat": 4,
 "nbformat_minor": 4
}
