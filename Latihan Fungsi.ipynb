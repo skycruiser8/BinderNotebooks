{
 "cells": [
  {
   "cell_type": "markdown",
   "metadata": {},
   "source": [
    "# Latihan Materi Fungsi Lanjutan\n",
    "\n",
    "**Penulis**: Rafi Muhammad Daffa | **Lisensi**: CC-BY-SA 4.0"
   ]
  },
  {
   "cell_type": "markdown",
   "metadata": {},
   "source": [
    "## Soal 1\n",
    "\n",
    "Silakan unduh berkas [ini](https://files.ui.ac.id/f/b8be8be421/) sebagai data yang akan digunakan pada soal ini.\n",
    "\n",
    "Diberikan sebuah List berisi 100 ribu angka yang dibuat secara acak. Angka tersebut merepresentasikan suatu panjang dari kubus yang akan dihitung volumenya. Tugasmu adalah mengimplementasikan program yang dapat menghitung seluruh volume dari kubus dengan panjang yang disediakan oleh List. Ada beberapa versi yang dapat kamu buat dengan program ini:\n",
    "\n",
    "1. Penggunaan iterasi konvensional dengan menghitung volume kemudian menimpa panjang di posisi yang sama (*in-place modification*).\n",
    "2. Penggunaan fungsi <code>map</code> dengan membuat sebuah objek Map baru (tidak perlu dikonversi ke List).\n",
    "3. Penggunaan iterasi dengan pendefinisian **Iterator** sendiri dengan mencetak seluruh kemungkinan volume secara bertahap.\n",
    "\n",
    "Untuk versi pertama dan kedua, silakan gunakan *template* yang sudah tersedia di bawah ini untuk mengukur waktu eksekusi dari blok program tersebut. Idealnya, versi kedua akan dijalankan lebih cepat dibandingkan versi pertama.\n",
    "\n",
    "> **Catatan**\n",
    "> Kamu bisa langsung mengolah programmu di sini :)"
   ]
  },
  {
   "cell_type": "code",
   "execution_count": null,
   "metadata": {},
   "outputs": [],
   "source": [
    "import datetime\n",
    "\n",
    "\"\"\"\n",
    "Fungsi menggunakan iterasi biasa dilakukan di sini\n",
    "\"\"\"\n",
    "time1start = datetime.datetime.now()\n",
    "\n",
    "# Isi kode kamu di sini\n",
    "\n",
    "print(\"Elapsed time: {}\".format(datetime.datetime.now()-time1start))\n",
    "\n",
    "\"\"\"\n",
    "Fungsi menggunakan map dilakukan di sini\n",
    "\"\"\"\n",
    "time2start = datetime.datetime.now()\n",
    "\n",
    "# Isi kode kamu di sini\n",
    "\n",
    "print(\"Elapsed time: {}\".format(datetime.datetime.now()-time2start))"
   ]
  }
 ],
 "metadata": {
  "kernelspec": {
   "display_name": "Python 3",
   "language": "python",
   "name": "python3"
  },
  "language_info": {
   "codemirror_mode": {
    "name": "ipython",
    "version": 3
   },
   "file_extension": ".py",
   "mimetype": "text/x-python",
   "name": "python",
   "nbconvert_exporter": "python",
   "pygments_lexer": "ipython3",
   "version": "3.8.0"
  }
 },
 "nbformat": 4,
 "nbformat_minor": 4
}
